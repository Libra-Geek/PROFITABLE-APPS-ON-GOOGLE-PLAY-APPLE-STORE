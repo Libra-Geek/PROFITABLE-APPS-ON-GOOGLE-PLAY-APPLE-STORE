{
 "cells": [
  {
   "cell_type": "markdown",
   "metadata": {},
   "source": [
    "   # PROFITABLE ENGLISH APPLICATIONS ON GOOGLE PLAY AND APPLE         STORE\n",
    "\n",
    "- In this project, we will be examining two sets of data containing the list of all mobile applications available for downloads on Google Play and Apple Store.\n",
    "\n",
    "\n",
    "- We are an English company and invariably, have English-speaking target customers. Therefore, we will analyse our data to check for and extract only those applications which can be used by our target customers.\n",
    "\n",
    "\n",
    "- After extracting our English apps, we will then select the ones which are profitable and are in high demand by our target customers. In order to have viable results, we need to analyse and check for apps which have the best performance both on Google Play and Apple Store. "
   ]
  },
  {
   "cell_type": "code",
   "execution_count": null,
   "metadata": {},
   "outputs": [],
   "source": [
    "from csv import reader\n",
    "open_google_file = open('googleplaystore.csv', encoding = 'utf8')\n",
    "read_file = reader(open_google_file)\n",
    "android = list(read_file)\n",
    "android_header = android[0]\n",
    "android = android[1:]\n",
    "# print (android)\n",
    "\n",
    "\n",
    "open_ios_file = open('AppleStore.csv', encoding = 'utf8')\n",
    "read_file = reader(open_ios_file)\n",
    "ios = list(read_file)\n",
    "ios_header = ios[0]\n",
    "ios = ios[1:]"
   ]
  },
  {
   "cell_type": "code",
   "execution_count": null,
   "metadata": {
    "collapsed": true
   },
   "outputs": [],
   "source": [
    "def explore_data(dataset, start, end, rows_and_columns=False):\n",
    "    dataset_slice = dataset[start:end]    \n",
    "    for row in dataset_slice:\n",
    "        print(row)\n",
    "        print('\\n') # adds a new (empty) line after each row\n",
    "\n",
    "    if rows_and_columns:\n",
    "        print('Number of rows:', len(dataset))\n",
    "        print('Number of columns:', len(dataset[0]))"
   ]
  },
  {
   "cell_type": "code",
   "execution_count": null,
   "metadata": {},
   "outputs": [],
   "source": [
    "print (android_header)\n",
    "print ('\\n')\n",
    "android_explore = explore_data(android,0,3, True)\n",
    "print (android_explore)\n",
    "print ('\\n')\n",
    "print (ios_header)\n",
    "print ('\\n')\n",
    "ios_explore = explore_data(ios, 0,3, True)\n",
    "print ('\\n')\n",
    "print (ios_explore)"
   ]
  },
  {
   "cell_type": "code",
   "execution_count": null,
   "metadata": {},
   "outputs": [],
   "source": [
    "faulty_app = android[10472]\n",
    "print (faulty_app)\n",
    "print ('\\n')\n",
    "print (android_header)\n",
    "print ('\\n')\n",
    "print (android[0])\n"
   ]
  },
  {
   "cell_type": "code",
   "execution_count": null,
   "metadata": {},
   "outputs": [],
   "source": [
    "print (len(android))\n",
    "del (android[10472])\n",
    "print (len(android))\n",
    "print (android[10472])"
   ]
  },
  {
   "cell_type": "markdown",
   "metadata": {},
   "source": [
    "# REMOVING DUPLICATE ENTRIES\n",
    "\n",
    "- When cleaning our data, we need to take care of duplicate values and to do this, we need to write a for loop which allows us to identify and print out the duplicate entries available.\n",
    "\n",
    "- We count the total number of duplicate values using the `len()` function below.\n",
    "\n",
    "- Due to the fact that some of the duplicate entries can have different corresponding values, we will not delete the duplicate values conventionally.\n",
    "\n",
    "- Rather, I propose that we make use of a value that differs in every duplicated value.\n",
    "\n",
    "- Based on the some of the values printed, most had different **RATINGS** values and so, the deletion will be based on this criterion. We assume that the reviews for every app will increase periodically till the most recent. \n",
    "\n",
    "- So, we delete the duplicate entries with lower reviews and retain those with the highest values as we assume they represent the most recent picture of the apps's description in the store."
   ]
  },
  {
   "cell_type": "code",
   "execution_count": null,
   "metadata": {},
   "outputs": [],
   "source": [
    "duplicate_apps =[]\n",
    "unique_apps = []\n",
    "for app in android:\n",
    "    name = app[0]\n",
    "    if name in unique_apps:\n",
    "        duplicate_apps.append(name)\n",
    "    else:\n",
    "        unique_apps.append(name)\n",
    "\n",
    "duplicate_ios_apps = []\n",
    "unique_ios_apps = []\n",
    "for app in ios:\n",
    "    title = app[0]\n",
    "    if title in unique_ios_apps:\n",
    "        duplicate_ios_apps.append(title)\n",
    "    else:\n",
    "        unique_ios_apps.append(title)\n",
    "print ('Total Duplicate Android apps:', len(duplicate_apps))\n",
    "print ('Total Unique Android apps:', len(unique_apps))\n",
    "print ('Total Duplicate ios apps:', len(duplicate_ios_apps))\n",
    "print ('Total Unique ios apps:', len(unique_ios_apps))\n",
    "        \n",
    "        "
   ]
  },
  {
   "cell_type": "code",
   "execution_count": null,
   "metadata": {},
   "outputs": [],
   "source": [
    "print (len(duplicate_apps))\n",
    "print ('\\n')\n",
    "print (duplicate_apps)"
   ]
  },
  {
   "cell_type": "code",
   "execution_count": null,
   "metadata": {},
   "outputs": [],
   "source": [
    "for app in android:\n",
    "    name = app[0]\n",
    "    if name == 'Viber Messenger':\n",
    "        print (app)"
   ]
  },
  {
   "cell_type": "code",
   "execution_count": null,
   "metadata": {},
   "outputs": [],
   "source": [
    "android_clean = []\n",
    "already_added = []\n",
    "for app in android[1:]:\n",
    "    name = app[0]\n",
    "    n_reviews = float(app[3])\n",
    "    if (reviews_max[name])== n_reviews and name not in already_added:\n",
    "        android_clean.append(app)\n",
    "        already_added.append(name)\n",
    "print (len(android_clean))\n",
    "print ('\\n')\n",
    "print (android_clean)\n",
    "print ('\\n')\n",
    "print (already_added)"
   ]
  },
  {
   "cell_type": "code",
   "execution_count": null,
   "metadata": {},
   "outputs": [],
   "source": [
    "reviews_max = {}\n",
    "for app in android[1:]:\n",
    "    name = app[0]\n",
    "    n_reviews = float(app[3])\n",
    "#     reviews_max.append(name)\n",
    "    if name in reviews_max and reviews_max[name] < n_reviews:\n",
    "        reviews_max[name] = n_reviews\n",
    "    elif name not in reviews_max:\n",
    "        reviews_max[name] = n_reviews\n",
    "print (explore_data(android_clean, 0, 3, True))\n",
    "print ('Actual Value:', len(reviews_max))\n",
    "print ('\\n')\n",
    "print ('Expected Value:', len(android) - 1181) \n",
    "print ('\\n')\n",
    "# print (reviews_max)\n",
    "# This value differs because we have removed the header row from the rows"
   ]
  },
  {
   "cell_type": "markdown",
   "metadata": {
    "collapsed": true
   },
   "source": [
    "### DELETING NON-ENGLISH APPS\n",
    "\n",
    "- We are an English company and we only want to deal with apps that are profitable for our target market (i.e. english-speaking users).\n",
    "\n",
    "- As a result, we need to eliminate the non-English apps available within our dataset. \n",
    "\n",
    "- To do this, we cannot analyse the data individually before we eliminate the non-English apps. \n",
    "\n",
    "- Good news is that, behind the scenes, each character we use in a string has a corresponding number associated with it.\n",
    "\n",
    "- According to the ASCII (American Standard Code for Information Interchange) system, the numbers corresponding to the characters we commonly use in an English text are all in the range 0 to 127.\n",
    "\n",
    "- Thus, based on this range, we can build a function that detects whether a character belongs to the set of common English characters or not."
   ]
  },
  {
   "cell_type": "code",
   "execution_count": null,
   "metadata": {},
   "outputs": [],
   "source": [
    "def english_character(string):\n",
    "    \n",
    "    for character in string:\n",
    "        if ord(character) > 127:\n",
    "            return False\n",
    "    return True\n",
    "print (english_character('Viber'))\n",
    "print (english_character('爱奇艺PPS -《欢乐颂2》电视剧热播'))\n",
    "print (english_character('Docs To Go™ Free Office Suite'))\n",
    "print (english_character('Instachat 😜'))"
   ]
  },
  {
   "cell_type": "markdown",
   "metadata": {},
   "source": [
    "### Re-Adjusting Our English Character Function\n",
    "\n",
    "- With the function created above to filter out non-English apps, we have realized that our function didn't prove as efficient as we needed it to be.\n",
    "\n",
    "- The english apps that contained an emoji were marked as Non-English apps and we want to make our function flexible to accomodate some conditions so that we don't eliminate relevant applications.\n",
    "\n",
    "- To minimize the impact of data loss, we'll only remove an app if its name has more than three characters with corresponding numbers falling outside the ASCII range. \n",
    "\n",
    "- This implies that all English apps with up to three emoji or other special characters will still be labeled as English.\n",
    "\n"
   ]
  },
  {
   "cell_type": "code",
   "execution_count": null,
   "metadata": {},
   "outputs": [],
   "source": [
    "def english_character(string):\n",
    "    non_english = 0\n",
    "    \n",
    "    for character in string:\n",
    "        if ord(character) > 127:\n",
    "            non_english += 1\n",
    "    if non_english > 3:\n",
    "        return False\n",
    "    else:\n",
    "        return True\n",
    "print (english_character('Viber'))\n",
    "print (english_character('爱奇艺PPS -《欢乐颂2》电视剧热播'))\n",
    "print (english_character('Docs To Go™ Free Office Suite'))\n",
    "print (english_character('Instachat 😜'))"
   ]
  },
  {
   "cell_type": "code",
   "execution_count": null,
   "metadata": {},
   "outputs": [],
   "source": [
    "android_english_apps = []\n",
    "ios_english_apps = []\n",
    "\n",
    "for app in android_clean:\n",
    "    name = app[0]\n",
    "    if english_character(name):\n",
    "        android_english_apps.append(app)\n",
    "\n",
    "for app in ios:\n",
    "    name = app[1]\n",
    "    if english_character(name):\n",
    "        ios_english_apps.append(app)\n",
    "\n",
    "print (explore_data(android_english_apps, 0, 7, True))\n",
    "print ('\\n')\n",
    "print (explore_data(android_english_apps, 0, 7, True))\n",
    "    "
   ]
  },
  {
   "cell_type": "markdown",
   "metadata": {
    "collapsed": true
   },
   "source": [
    "### Categorising the sorted English apps by Genres\n",
    "\n",
    "- As mentioned earlier, the goal is to determine the type of apps which are likely to pull more users because our income is generated from more user traction.\n",
    "\n",
    "\n",
    "- To reduce our risks and overhead, we need to create a validation strategy and a feasible plan to execute that strategy.\n",
    "\n",
    "\n",
    "- Our end goal is to have our English apps both on the Google Play Store and Apple Store markets. To acheive this, we have to follow these steps:\n",
    "    \n",
    "    - Build a minimal Android version of the app, and add it to Google Play.\n",
    "    \n",
    "    - If the app has a good response from users, we develop it further.\n",
    "    \n",
    "    - If the app is profitable after six months, we build an iOS version of the app and add it to the App Store.\n",
    " \n",
    "\n",
    "\n",
    "- Based on our end goal, we need to then find and extract apps which are both successful on the Android and iOS stores. To begin with, let us analyse and deduce the apps genres which are most common in both markets.\n",
    "\n",
    "\n",
    "\n",
    "- On the Google Play Store, the best column(s) that can be used in analysing the most  common genres are the *Category* and *Genres* columns while for the App Store, we can use the *prime genre* column."
   ]
  },
  {
   "cell_type": "code",
   "execution_count": null,
   "metadata": {},
   "outputs": [],
   "source": [
    "def freq_table(dataset, index):\n",
    "    table = {}\n",
    "    total = 0\n",
    "    \n",
    "    for row in dataset:\n",
    "        total +=1\n",
    "        value = row[index]\n",
    "        if value in table:\n",
    "            table[value] +=1\n",
    "        else:\n",
    "            table[value] = 1\n",
    "    \n",
    "    table_percentages = {}\n",
    "    for key in table: \n",
    "        percentage = (table[key]/total) * 100\n",
    "        table_percentages[key] = percentage\n",
    "    \n",
    "    return table_percentages\n",
    "\n",
    "def display_table(dataset, index):\n",
    "    table = freq_table(dataset, index)\n",
    "    table_display = []\n",
    "    for key in table:\n",
    "        key_val_as_tuple = (table[key], key)\n",
    "        table_display.append(key_val_as_tuple)\n",
    "\n",
    "    table_sorted = sorted(table_display, reverse = True)\n",
    "    for entry in table_sorted:\n",
    "        print(entry[1], ':', entry[0])"
   ]
  },
  {
   "cell_type": "code",
   "execution_count": null,
   "metadata": {},
   "outputs": [],
   "source": [
    "android_genre_freq_table = display_table(android_english_apps, 1)\n",
    "print ('\\n')\n",
    "print ('\\n')\n",
    "android_genre_freq_table1 = display_table(android_english_apps, 9)\n",
    "print ('\\n')\n",
    "print ('\\n')\n",
    "ios_genre_freq_table = display_table(ios_english_apps, -5)\n",
    "print ('\\n')\n",
    "# print (android_genre_freq_table)\n",
    "# print ('\\n')\n",
    "# print (ios_genre_freq_table)\n",
    "# print ('\\n')\n",
    "# print (android_genre_freq_table1)"
   ]
  },
  {
   "cell_type": "markdown",
   "metadata": {},
   "source": [
    "### Analysis of the Frequency Tables\n",
    "\n",
    "- From the table we generated above, we realise that among the free android english apps: \n",
    "\n",
    "    - **FAMILY** related apps ranked the highest with a 19.33% ranking.\n",
    "    - **GAME** apps ranked as the first runner up with a 9.82% ranking.\n",
    "    - **TOOLS** apps ranked as the second runner up with a 8.61% ranking.\n",
    "\n",
    "\n",
    "- Among the iOS apps, the following can be observed: \n",
    "\n",
    "    - **Games** related apps ranked the highest with a 54.86% ranking.\n",
    "    - **Entertainment** apps ranked as the first runner up with a 7.26% ranking.\n",
    "    - **Education** apps ranked as the second runner up with a 6.63% ranking.\n",
    "\n",
    "\n",
    "\n",
    "- The following more general patterns were noticed:\n",
    "\n",
    "    - Most of the apps that are ranked higher on the Android Store are not exactly topping the list on the iOS store. Some of these apps include: **Finance**, **Business**, **Medical** apps and so on.\n",
    "    - More apps on the Google Play Store were designed for practical purposes (with an existing balance between fun and practical apps) while those on the iOS store are more designed for entertainment purposes."
   ]
  },
  {
   "cell_type": "markdown",
   "metadata": {},
   "source": [
    "### Most Popular Apps by Genre\n",
    "\n",
    "- Based on the analysis we executed in the previous code, we would now like to know the English apps with the highest no of users.\n",
    "\n",
    "\n",
    "- A way to go about this is to ** calculate the average number of installs for each app genre **.\n",
    "\n",
    "\n",
    "- To do this, we would need to find the column within our two datasets that helps us to derive this information. \n",
    "\n",
    "    - For the Android Store, we can use the *Installs* Column\n",
    "    \n",
    "    - For the iOS store, since we don't have a similar column containing the number of installs, we use the *rating_count_tot* column."
   ]
  },
  {
   "cell_type": "code",
   "execution_count": null,
   "metadata": {
    "collapsed": true
   },
   "outputs": [],
   "source": [
    "ios_genre_frequency_table = freq_table(ios_english_apps, -5)\n",
    "\n",
    "for genre in ios_genre_frequency_table :\n",
    "    total = 0\n",
    "    len_genre = 0\n",
    "    for app in ios_english_apps:\n",
    "        genre_app = app[-5]\n",
    "        if genre_app == genre:            \n",
    "            n_ratings = float(app[5])\n",
    "            total += n_ratings\n",
    "            len_genre += 1\n",
    "    avg_n_ratings = total / len_genre\n",
    "    print(genre, ':', avg_n_ratings)"
   ]
  },
  {
   "cell_type": "code",
   "execution_count": null,
   "metadata": {},
   "outputs": [],
   "source": [
    "android_genres = freq_table(android_english_apps, 1)\n",
    "\n",
    "for category in android_genres:\n",
    "    total = 0\n",
    "    len_category = 0\n",
    "    for app in android_english_apps:\n",
    "        category_app = app[1]\n",
    "        if category_app == category:            \n",
    "            android_installs = app[5]\n",
    "            android_installs = android_installs.replace(',', '')\n",
    "            android_installs = android_installs.replace('+', '')\n",
    "            total += float(android_installs)\n",
    "            len_category += 1\n",
    "    avg_android_installs = total / len_category\n",
    "    print(category, ':', avg_android_installs)"
   ]
  },
  {
   "cell_type": "code",
   "execution_count": null,
   "metadata": {},
   "outputs": [],
   "source": [
    "for app in android_english_apps:\n",
    "    if app[1] == 'COMMUNICATION' and (app[5] == '1,000,000,000+'\n",
    "                                      or app[5] == '500,000,000+'\n",
    "                                      or app[5] == '100,000,000+'):\n",
    "        print(app[0], ':', app[5])"
   ]
  },
  {
   "cell_type": "code",
   "execution_count": null,
   "metadata": {},
   "outputs": [],
   "source": [
    "for app in ios_english_apps:\n",
    "    if app[-5] == 'Social Networking':\n",
    "        print(app[1], ':', app[5])"
   ]
  },
  {
   "cell_type": "markdown",
   "metadata": {},
   "source": [
    "### ANALYSIS AND RECOMMENDATION FOR PROFITABLE APPS\n",
    "\n",
    "- Based on the analysis conducted on the apps on the Google Play Store, we realized that the app with the highest installs fell under the category of **COMMUNICATION**.\n",
    "\n",
    "\n",
    "- The following are the top applicationa which show the potential for being profitable on the Google Play Store are: \n",
    "\n",
    "    1. WhatsApp Messenger : 1,000,000,000+\n",
    "\n",
    "    2. Messenger – Text and Video Chat for Free : 1,000,000,000+\n",
    "\n",
    "    3. Skype - free IM & video calls : 1,000,000,000+\n",
    "\n",
    "    4. Google Chrome: Fast & Secure : 1,000,000,000+\n",
    "\n",
    "    5. Gmail : 1,000,000,000+\n",
    "\n",
    "    6. Hangouts : 1,000,000,000+\n",
    "    \n",
    "\n",
    "- These are the potential profitable apps on the App Store: \n",
    "\n",
    "    1. Facebook           :           2974676\n",
    "    \n",
    "    2. Pinterest          :           1061624\n",
    "\n",
    "    3. Skype for iPhone   :            373519\n",
    "    \n",
    "    4. Messenger          :            351466\n",
    "    \n",
    "    5. Tumblr             :            334293\n",
    "    \n",
    "    6. WhatsApp Messenger :            287589\n"
   ]
  },
  {
   "cell_type": "code",
   "execution_count": null,
   "metadata": {
    "collapsed": true
   },
   "outputs": [],
   "source": []
  }
 ],
 "metadata": {
  "kernelspec": {
   "display_name": "Python 3",
   "language": "python",
   "name": "python3"
  },
  "language_info": {
   "codemirror_mode": {
    "name": "ipython",
    "version": 3
   },
   "file_extension": ".py",
   "mimetype": "text/x-python",
   "name": "python",
   "nbconvert_exporter": "python",
   "pygments_lexer": "ipython3",
   "version": "3.7.6"
  }
 },
 "nbformat": 4,
 "nbformat_minor": 2
}
